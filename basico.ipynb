{
 "cells": [
  {
   "cell_type": "markdown",
   "id": "0d9e3a44-be2c-440e-a709-5e6552a503d6",
   "metadata": {
    "tags": []
   },
   "source": [
    "# Estrutura:\n",
    "\n",
    "- Notebook\n",
    "    - Código\n",
    "    - Markdown\n",
    "- Exemplos de códigos simples em Python\n",
    "  - Objetos: números, listas\n",
    "  - Funções\n",
    "  - Loops\n",
    "  - Usar funções em Loops\n",
    "  - Loops em Paralelo\n",
    "- Importar bibliotecas\n",
    "  - NumPy:\n",
    "      - Funções trigonométricas\n",
    "      - Vetorização\n",
    "  - SciPy:\n",
    "      - Integração numérica\n",
    "      - Zeros de funções\n",
    "  - SymPy:\n",
    "      - Manipulação\n",
    "      - Integração\n",
    "   - Matplotlib:\n",
    "      - Um gráfico simples\n",
    "- Outros exemplos de notebooks\n",
    "- Instalação de bibliotecas\n",
    "  - Instalação do EinsteinPy\n",
    "    - Exemplos de como usar o EinsteinPy"
   ]
  },
  {
   "cell_type": "markdown",
   "id": "26065a2b-fd1d-4370-b34e-4e0d40a1f212",
   "metadata": {},
   "source": [
    "- Notebook\n",
    "    - Código\n",
    "    - Markdown"
   ]
  },
  {
   "cell_type": "markdown",
   "id": "a63af19e-b412-41aa-baec-53f0bdadee14",
   "metadata": {},
   "source": [
    "- Comentar sobre os botões, elementos e atalhos de teclado\n",
    "- É possível abrir muitas janelas ao mesmo tempo"
   ]
  },
  {
   "cell_type": "code",
   "execution_count": null,
   "id": "ee3adebc-52ac-44dc-908b-e90e8b00fa90",
   "metadata": {},
   "outputs": [],
   "source": [
    "print('Hello World') # esse é um comentário. Nesse caso, tanto faz ' ou \""
   ]
  },
  {
   "cell_type": "markdown",
   "id": "93c09fa4-4027-4651-8268-489f027b377a",
   "metadata": {},
   "source": [
    "Ctrl+Enter para rodar a célula. Note a bolinha no canto superior direito."
   ]
  },
  {
   "cell_type": "code",
   "execution_count": null,
   "id": "b46f483c-bfda-4f2c-9fab-9ed33132e48d",
   "metadata": {},
   "outputs": [],
   "source": [
    "1+1"
   ]
  },
  {
   "cell_type": "code",
   "execution_count": null,
   "id": "22a5f37d-7918-4714-b37c-2d8e656dc9a5",
   "metadata": {},
   "outputs": [],
   "source": [
    "1/2."
   ]
  },
  {
   "cell_type": "code",
   "execution_count": null,
   "id": "6b11fe3f-92a7-4711-8ddc-90f9eff8ffc6",
   "metadata": {},
   "outputs": [],
   "source": [
    "2 ** 2"
   ]
  },
  {
   "cell_type": "code",
   "execution_count": null,
   "id": "8c82a18a-80d5-43cc-94ca-63434ac646d1",
   "metadata": {},
   "outputs": [],
   "source": [
    "# Essa é uma célula de código"
   ]
  },
  {
   "cell_type": "markdown",
   "id": "9e4d6e40-c5c6-41a7-807e-45a73694f131",
   "metadata": {},
   "source": [
    "Essa é uma célula de Markdown"
   ]
  },
  {
   "cell_type": "markdown",
   "id": "0c35ca40-a223-42b5-bf1c-e4ceda2c62bb",
   "metadata": {
    "tags": []
   },
   "source": [
    "$\\int_0^\\infty f(x)dx$\n",
    "\n",
    "Texto...\n",
    "\n",
    "Código em html:\n",
    "\n",
    "<h1>Heading 1</h1>\n",
    "\n",
    "<iframe width=\"560\" height=\"315\" src=\"https://www.youtube.com/embed/DRCD-zx5QFA\" title=\"YouTube video player\" frameborder=\"0\" allow=\"accelerometer; autoplay; clipboard-write; encrypted-media; gyroscope; picture-in-picture\" allowfullscreen></iframe>"
   ]
  },
  {
   "cell_type": "markdown",
   "id": "b9a26721-cd76-4081-b02c-7d3edb7b4976",
   "metadata": {},
   "source": [
    "- Exemplos de códigos simples em Python\n",
    "  - Objetos: números, listas\n",
    "  - Funções\n",
    "  - Loops\n",
    "  - Usar funções em Loops\n",
    "  - Loops em Paralelo"
   ]
  },
  {
   "cell_type": "code",
   "execution_count": null,
   "id": "2c66bade-f68f-461a-b88e-183f9e437098",
   "metadata": {},
   "outputs": [],
   "source": [
    "1+90 # Inteiro"
   ]
  },
  {
   "cell_type": "code",
   "execution_count": null,
   "id": "78897a26-95ba-47cc-bb2f-f64e9d2513c5",
   "metadata": {},
   "outputs": [],
   "source": [
    "1+91. # Floating Point "
   ]
  },
  {
   "cell_type": "code",
   "execution_count": null,
   "id": "c5677131-5878-4bde-bbbf-e21f42d78e19",
   "metadata": {},
   "outputs": [],
   "source": [
    "'a' # String"
   ]
  },
  {
   "cell_type": "code",
   "execution_count": null,
   "id": "4e3e8860-ccb7-4340-9f9e-51bb48b2cc80",
   "metadata": {},
   "outputs": [],
   "source": [
    "'a'+1"
   ]
  },
  {
   "cell_type": "code",
   "execution_count": null,
   "id": "b847867b-80b0-46c8-962d-9108d6b37370",
   "metadata": {},
   "outputs": [],
   "source": [
    "'a'+'1'"
   ]
  },
  {
   "cell_type": "code",
   "execution_count": null,
   "id": "6d684c1a-6721-4d19-b65a-c04b2574d5cf",
   "metadata": {},
   "outputs": [],
   "source": [
    "lista = [] # Lista vazia"
   ]
  },
  {
   "cell_type": "code",
   "execution_count": null,
   "id": "71c043ad-0f64-4c89-aa4c-04311da74af9",
   "metadata": {},
   "outputs": [],
   "source": [
    "lista"
   ]
  },
  {
   "cell_type": "code",
   "execution_count": null,
   "id": "58f11f89-f7f6-4aeb-b499-4c41525cb183",
   "metadata": {},
   "outputs": [],
   "source": [
    "lista = [1, 2, 10, 20] "
   ]
  },
  {
   "cell_type": "code",
   "execution_count": null,
   "id": "354da626-5d7d-453f-9b86-9fcc857fb4b5",
   "metadata": {},
   "outputs": [],
   "source": [
    "lista"
   ]
  },
  {
   "cell_type": "code",
   "execution_count": null,
   "id": "ca57a620-fc94-4135-a45a-2492080d621b",
   "metadata": {},
   "outputs": [],
   "source": [
    "lista[0]"
   ]
  },
  {
   "cell_type": "code",
   "execution_count": null,
   "id": "0f14c06c-f7fb-440d-9f85-bf36ac480aa5",
   "metadata": {},
   "outputs": [],
   "source": [
    "lista[-1]"
   ]
  },
  {
   "cell_type": "code",
   "execution_count": null,
   "id": "d47f5c6c-7e85-48a2-ba58-a7678adfaa79",
   "metadata": {},
   "outputs": [],
   "source": [
    "lista.append(3)"
   ]
  },
  {
   "cell_type": "code",
   "execution_count": null,
   "id": "8bf25412-f3bd-4fcf-ad18-60cc436e727e",
   "metadata": {},
   "outputs": [],
   "source": [
    "lista"
   ]
  },
  {
   "cell_type": "code",
   "execution_count": null,
   "id": "f7a7fbed-a130-4071-ac30-5c1a810138d7",
   "metadata": {},
   "outputs": [],
   "source": [
    "for objeto in lista:\n",
    "    print(objeto)"
   ]
  },
  {
   "cell_type": "code",
   "execution_count": null,
   "id": "9456c3ac-c8b5-4390-adf1-5d7dbda57950",
   "metadata": {},
   "outputs": [],
   "source": [
    "lista_nova = []\n",
    "for i in range(20):\n",
    "    lista_nova.append(i)"
   ]
  },
  {
   "cell_type": "code",
   "execution_count": null,
   "id": "88b0af07-f41b-4b46-bd47-91942378321a",
   "metadata": {},
   "outputs": [],
   "source": [
    "lista_nova"
   ]
  },
  {
   "cell_type": "code",
   "execution_count": null,
   "id": "a2bf75b1-156a-4da7-b765-ec1d9c19b1ca",
   "metadata": {},
   "outputs": [],
   "source": [
    "minha_func = lambda x: x**2"
   ]
  },
  {
   "cell_type": "code",
   "execution_count": null,
   "id": "87af61fd-9820-46da-b54a-c2af98915ecf",
   "metadata": {},
   "outputs": [],
   "source": [
    "minha_func(3)"
   ]
  },
  {
   "cell_type": "code",
   "execution_count": null,
   "id": "c5ecb386-d768-43b5-9852-0f371ea4b587",
   "metadata": {},
   "outputs": [],
   "source": [
    "minha_func(lista_nova)"
   ]
  },
  {
   "cell_type": "code",
   "execution_count": null,
   "id": "d4dbc92d-a3f6-4efd-8759-9f4f5d620167",
   "metadata": {},
   "outputs": [],
   "source": [
    "def minha_func2(x):\n",
    "    return x ** 2 / 3"
   ]
  },
  {
   "cell_type": "code",
   "execution_count": null,
   "id": "93ba7baf-276c-4d7b-ba3a-8ce12db04eaf",
   "metadata": {},
   "outputs": [],
   "source": [
    "minha_func2(3)"
   ]
  },
  {
   "cell_type": "code",
   "execution_count": null,
   "id": "47720ef9-c06d-450e-bc67-7a92a45158d2",
   "metadata": {},
   "outputs": [],
   "source": [
    "def minha_func3(x):\n",
    "    value = x ** 2\n",
    "    return value + x"
   ]
  },
  {
   "cell_type": "code",
   "execution_count": null,
   "id": "1636a72e-e778-4956-be5e-003e5070913a",
   "metadata": {},
   "outputs": [],
   "source": [
    "lista_nova_func = []\n",
    "for i in range(10):\n",
    "    lista_nova_func.append(minha_func3(i))"
   ]
  },
  {
   "cell_type": "code",
   "execution_count": null,
   "id": "bc1c7652-e322-409c-aade-47402ca3742d",
   "metadata": {
    "tags": []
   },
   "outputs": [],
   "source": [
    "lista_nova_func"
   ]
  },
  {
   "cell_type": "code",
   "execution_count": null,
   "id": "d6e19d9f-55ce-43f6-b04b-75663c98c98b",
   "metadata": {},
   "outputs": [],
   "source": [
    "from tqdm import tqdm"
   ]
  },
  {
   "cell_type": "code",
   "execution_count": null,
   "id": "6158d023-042f-4080-99bb-80cdd3bade66",
   "metadata": {},
   "outputs": [],
   "source": [
    "lista_nova_func = []\n",
    "for i in tqdm(range(2000000)):\n",
    "    lista_nova_func.append(minha_func3(i))"
   ]
  },
  {
   "cell_type": "markdown",
   "id": "f928ca0b-da43-4b2f-9b99-cb5622ed89d4",
   "metadata": {},
   "source": [
    "Loops em paralelo: [joblib](https://joblib.readthedocs.io/en/latest/) ou [pqdm](https://github.com/niedakh/pqdm)"
   ]
  },
  {
   "cell_type": "markdown",
   "id": "6531f5b7-e68d-4344-9d33-a51e8ce71aa1",
   "metadata": {},
   "source": [
    "- Importar bibliotecas\n",
    "  - NumPy:\n",
    "      - Funções trigonométricas\n",
    "      - Vetorização\n",
    "  - SciPy:\n",
    "      - Integração numérica\n",
    "      - Zeros de funções\n",
    "  - SymPy:\n",
    "      - Manipulação\n",
    "      - Integração\n",
    "      - Funções especiais\n",
    "   - Matplotlib:\n",
    "      - Um gráfico simples"
   ]
  },
  {
   "cell_type": "code",
   "execution_count": null,
   "id": "d944aa84-e23e-4726-966b-6928ff27971a",
   "metadata": {},
   "outputs": [],
   "source": [
    "import numpy as np"
   ]
  },
  {
   "cell_type": "code",
   "execution_count": null,
   "id": "d45145ff-fae9-48c2-bc6c-b892144191dd",
   "metadata": {},
   "outputs": [],
   "source": [
    "np.cos(2)"
   ]
  },
  {
   "cell_type": "code",
   "execution_count": null,
   "id": "0365adab-0637-4e89-8111-921bc2d92302",
   "metadata": {},
   "outputs": [],
   "source": [
    "nova_lista = [0, 1, 2]"
   ]
  },
  {
   "cell_type": "code",
   "execution_count": null,
   "id": "9b2b6ad3-8c39-4364-9a58-0c4feb564f57",
   "metadata": {},
   "outputs": [],
   "source": [
    "np.cos(nova_lista)"
   ]
  },
  {
   "cell_type": "code",
   "execution_count": null,
   "id": "d9503782-0986-4931-9262-58913aaf18fc",
   "metadata": {},
   "outputs": [],
   "source": [
    "minha_func3(nova_lista)"
   ]
  },
  {
   "cell_type": "code",
   "execution_count": null,
   "id": "b0505c93-e014-4e65-a197-c5193242834f",
   "metadata": {},
   "outputs": [],
   "source": [
    "nova_lista_array = np.array(nova_lista)"
   ]
  },
  {
   "cell_type": "code",
   "execution_count": null,
   "id": "84211baf-695f-4a86-89de-662559f16964",
   "metadata": {},
   "outputs": [],
   "source": [
    "minha_func3(nova_lista_array)"
   ]
  },
  {
   "cell_type": "code",
   "execution_count": null,
   "id": "bd4dfc9a-25b0-4e3e-afba-f3819f5f90dd",
   "metadata": {},
   "outputs": [],
   "source": [
    "from scipy import integrate"
   ]
  },
  {
   "cell_type": "markdown",
   "id": "9c62ee1a-ce96-4e48-ae2b-b6d9de433cfb",
   "metadata": {},
   "source": [
    "$\\int_0^4 x^2dx$"
   ]
  },
  {
   "cell_type": "code",
   "execution_count": null,
   "id": "c93cd35b-f9bf-4473-8493-9aca02d893c6",
   "metadata": {},
   "outputs": [],
   "source": [
    "x2 = lambda x: x**2"
   ]
  },
  {
   "cell_type": "code",
   "execution_count": null,
   "id": "2d236b70-4ee6-4935-82a6-34e023c48ea0",
   "metadata": {},
   "outputs": [],
   "source": [
    "integrate.quad(x2, 0, 4)\n",
    "(21.333333333333332, 2.3684757858670003e-13)"
   ]
  },
  {
   "cell_type": "code",
   "execution_count": null,
   "id": "4a2f41d2-601c-4f0c-bce2-ba441bca4ac9",
   "metadata": {},
   "outputs": [],
   "source": [
    "4**3 / 3. # resultado analítico"
   ]
  },
  {
   "cell_type": "code",
   "execution_count": null,
   "id": "4bed2f8f-beef-44c6-a4e6-dca17c1bc032",
   "metadata": {},
   "outputs": [],
   "source": [
    "from scipy.optimize import fsolve"
   ]
  },
  {
   "cell_type": "code",
   "execution_count": null,
   "id": "767616db-0fbb-44b8-bead-f2244981c681",
   "metadata": {},
   "outputs": [],
   "source": [
    "def func(x):\n",
    "    return (x - 1)**2 - 3*x"
   ]
  },
  {
   "cell_type": "code",
   "execution_count": null,
   "id": "f8960a00-3e3d-41be-843d-edb2d026f36c",
   "metadata": {},
   "outputs": [],
   "source": [
    "fsolve(func, 0)"
   ]
  },
  {
   "cell_type": "code",
   "execution_count": null,
   "id": "43a87984-cec0-4f65-902d-8e861415d14d",
   "metadata": {},
   "outputs": [],
   "source": [
    "func(0.20871215)"
   ]
  },
  {
   "cell_type": "code",
   "execution_count": null,
   "id": "ec5a3510-d151-444b-bd2d-42a2fa42eb7b",
   "metadata": {},
   "outputs": [],
   "source": [
    "fsolve(func, 5)"
   ]
  },
  {
   "cell_type": "code",
   "execution_count": null,
   "id": "22334c51-015c-4da6-8e59-0a15722cd267",
   "metadata": {},
   "outputs": [],
   "source": [
    "func(4.79128785)"
   ]
  },
  {
   "cell_type": "code",
   "execution_count": null,
   "id": "6582097f-32ec-4ed4-b9df-12687818d5c5",
   "metadata": {},
   "outputs": [],
   "source": [
    "from sympy import *"
   ]
  },
  {
   "cell_type": "code",
   "execution_count": null,
   "id": "93a10230-ddba-476a-8ba0-13701dfa36f1",
   "metadata": {},
   "outputs": [],
   "source": [
    "M = Matrix([[1, -1], [3, 4]])\n",
    "M"
   ]
  },
  {
   "cell_type": "code",
   "execution_count": null,
   "id": "7a5ee3d0-cba5-4656-a697-a77932e3a41f",
   "metadata": {},
   "outputs": [],
   "source": [
    "M.eigenvals()"
   ]
  },
  {
   "cell_type": "code",
   "execution_count": null,
   "id": "b0f3a75d-7a3a-4a96-9963-551e0aa1eeb8",
   "metadata": {},
   "outputs": [],
   "source": [
    "M.eigenvects()"
   ]
  },
  {
   "cell_type": "code",
   "execution_count": null,
   "id": "db8c0138-2fc0-417e-b771-8f8c39c6d73c",
   "metadata": {},
   "outputs": [],
   "source": [
    "M.inv()"
   ]
  },
  {
   "cell_type": "code",
   "execution_count": null,
   "id": "a990ee49-21c3-4a92-b636-9a22b5d4eb5c",
   "metadata": {},
   "outputs": [],
   "source": [
    "x, y, z = symbols('x y z')"
   ]
  },
  {
   "cell_type": "code",
   "execution_count": null,
   "id": "146d7068-a81e-4dd7-8a7c-f6a62182c26c",
   "metadata": {},
   "outputs": [],
   "source": [
    "simplify(sin(x)**2 + cos(x)**2)"
   ]
  },
  {
   "cell_type": "code",
   "execution_count": null,
   "id": "aa822eef-24be-470b-8973-f328048c803b",
   "metadata": {},
   "outputs": [],
   "source": [
    "expand((x + 2)*(x - 3))"
   ]
  },
  {
   "cell_type": "code",
   "execution_count": null,
   "id": "03b2ef2d-0a89-426b-a2c7-1a37e43647d6",
   "metadata": {},
   "outputs": [],
   "source": [
    "diff(cos(x), x)"
   ]
  },
  {
   "cell_type": "code",
   "execution_count": null,
   "id": "c06913c9-f01a-4948-9dae-fda8c692c111",
   "metadata": {},
   "outputs": [],
   "source": [
    "integrate(cos(x), x)"
   ]
  },
  {
   "cell_type": "code",
   "execution_count": null,
   "id": "61165787-2cf0-4478-8a47-e983cf2bf6a0",
   "metadata": {},
   "outputs": [],
   "source": [
    "integrate(exp(-x), (x, 0, oo))"
   ]
  },
  {
   "cell_type": "code",
   "execution_count": null,
   "id": "86622038-43f1-49f6-8742-ffbe29b1866b",
   "metadata": {},
   "outputs": [],
   "source": [
    "import matplotlib.pyplot as plt"
   ]
  },
  {
   "cell_type": "code",
   "execution_count": null,
   "id": "be3f3b9d-1b72-4c37-bcf6-18f72da380f4",
   "metadata": {},
   "outputs": [],
   "source": [
    "x = np.linspace(0, 2*np.pi, 1000)\n",
    "y = np.cos(x)\n",
    "plt.plot(x, y)\n",
    "plt.show()"
   ]
  },
  {
   "cell_type": "code",
   "execution_count": null,
   "id": "62c53a50-fb20-47f5-93ed-8e52b30f6e17",
   "metadata": {},
   "outputs": [],
   "source": [
    "t = np.linspace(0, 39*np.pi/2, 1000)\n",
    "x = t*np.cos(t)**3\n",
    "y = 9*t*np.sqrt(abs(np.cos(t))) + t*np.sin(0.2*t)*np.cos(4*t)\n",
    "plt.plot(x, y, c=\"green\")\n",
    "plt.show()"
   ]
  },
  {
   "cell_type": "markdown",
   "id": "e6e14c42-7c12-40a7-aca7-ad399f66d81b",
   "metadata": {},
   "source": [
    "- Outros exemplos de notebooks\n",
    "\n",
    "Veja: [alperyilmaz/jupyterlab-python-intro](https://github.com/alperyilmaz/jupyterlab-python-intro), [Motivating Examples](https://jupyter-notebook.readthedocs.io/en/stable/examples/Notebook/Typesetting%20Equations.html), [A guide to LIGO-Virgo detector noise](https://github.com/losc-tutorial/Data_Guide/blob/master/Guide_Notebook.ipynb)"
   ]
  },
  {
   "cell_type": "markdown",
   "id": "9d0dd24a-ad45-45f5-ab35-a2a7ea4b703f",
   "metadata": {},
   "source": [
    "Exemplo de notebook para cálculo tensorial (bem simples, porém serve de inspiração): [General Relativity - Tensor Calculator\n",
    "](https://github.com/emaadparacha/General-Relativity/blob/main/Tensor%20Calculator%20-%20General%20Relativity.ipynb)."
   ]
  },
  {
   "cell_type": "markdown",
   "id": "82e33547-dd33-480b-99e6-5dae91f71789",
   "metadata": {},
   "source": [
    "- Instalação de bibliotecas\n",
    "  - Instalação do EinsteinPy\n",
    "    - Exemplos de como usar o EinsteinPy"
   ]
  },
  {
   "cell_type": "markdown",
   "id": "85dc48fc-1961-4303-befd-24d068af8fd7",
   "metadata": {},
   "source": [
    "pip: pypi.org\n",
    "   - Instalação simples\n",
    "   ```bash\n",
    "   pip install healpy\n",
    "   ```\n",
    "   \n",
    "conda: \n",
    "   - Verifica se não tem nenhuma incompatibilidade.\n",
    "   ```bash\n",
    "   conda install -c conda-forge healpy\n",
    "   ```"
   ]
  },
  {
   "cell_type": "markdown",
   "id": "b88e2525-cd04-40d8-9197-32cbd659063e",
   "metadata": {},
   "source": [
    "# [EinsteinPy](https://docs.einsteinpy.org/en/stable/)\n",
    "\n",
    "Instalação:\n",
    "\n",
    "```bash\n",
    "$ pip install einsteinpy\n",
    "```\n",
    "\n",
    "ou\n",
    "\n",
    "```bash\n",
    "$ conda install -c conda-forge einsteinpy\n",
    "```"
   ]
  },
  {
   "cell_type": "code",
   "execution_count": null,
   "id": "86e63530-5983-43ca-8028-f55da909b833",
   "metadata": {},
   "outputs": [],
   "source": [
    "import numpy as np\n",
    "\n",
    "from einsteinpy.geodesic import Timelike\n",
    "from einsteinpy.plotting import StaticGeodesicPlotter"
   ]
  },
  {
   "cell_type": "markdown",
   "id": "8731ecbd-07ec-4c30-b0fc-286eaac6d1a1",
   "metadata": {
    "tags": []
   },
   "source": [
    "### Animações\n",
    "\n",
    "* Defining various parameters\n",
    "* Posições/momento iniciais de uma partícula teste\n",
    "* Buraco Negro de Kerr\n",
    "* Unidades (G=c=M=1)."
   ]
  },
  {
   "cell_type": "code",
   "execution_count": null,
   "id": "8a16b71d-f351-4541-af6f-726832d531b6",
   "metadata": {},
   "outputs": [],
   "source": [
    "position = [40., np.pi / 2, 0.]\n",
    "momentum = [0., 0., 3.83405]\n",
    "a = 0.\n",
    "steps = 1000\n",
    "delta = 1."
   ]
  },
  {
   "cell_type": "code",
   "execution_count": null,
   "id": "b0831574-75f0-4ef7-9bc8-85be0bfdc1d0",
   "metadata": {},
   "outputs": [],
   "source": [
    "geod = Timelike(\n",
    "    metric=\"Kerr\",\n",
    "    metric_params=(a,),\n",
    "    position=position,\n",
    "    momentum=momentum,\n",
    "    steps=steps,\n",
    "    delta=delta,\n",
    "    return_cartesian=True\n",
    ")"
   ]
  },
  {
   "cell_type": "code",
   "execution_count": null,
   "id": "04507f7a-c939-472d-8709-3aafb877cf6e",
   "metadata": {},
   "outputs": [],
   "source": [
    "%matplotlib widget"
   ]
  },
  {
   "cell_type": "code",
   "execution_count": null,
   "id": "34489509-d094-4ef2-b29c-20d3babb3426",
   "metadata": {},
   "outputs": [],
   "source": [
    "sgpl = StaticGeodesicPlotter()\n",
    "sgpl.animate(geod, interval=1)\n",
    "sgpl.show()"
   ]
  },
  {
   "cell_type": "markdown",
   "id": "da7cecaf-2d8e-4df6-aff2-d4574a7d0b50",
   "metadata": {},
   "source": [
    "### Tensores:"
   ]
  },
  {
   "cell_type": "code",
   "execution_count": null,
   "id": "b3dfa75c-39d5-4beb-9543-e40ca3e00ee4",
   "metadata": {},
   "outputs": [],
   "source": [
    "import sympy\n",
    "from sympy import symbols, sin, cos, sinh\n",
    "from einsteinpy.symbolic import EinsteinTensor, MetricTensor\n",
    "\n",
    "sympy.init_printing()"
   ]
  },
  {
   "cell_type": "code",
   "execution_count": null,
   "id": "b8a74daf-76ba-41c9-a85f-e4ed05362d68",
   "metadata": {},
   "outputs": [],
   "source": [
    "syms = sympy.symbols(\"t chi theta phi\")\n",
    "t, ch, th, ph = syms\n",
    "m = sympy.diag(-1, cos(t) ** 2, cos(t) ** 2 * sinh(ch) ** 2, cos(t) ** 2 * sinh(ch) ** 2 * sin(th) ** 2).tolist()\n",
    "metric = MetricTensor(m, syms)"
   ]
  },
  {
   "cell_type": "code",
   "execution_count": null,
   "id": "1a837ccc-8d3b-4e0a-a8e2-9abd3e05b8d9",
   "metadata": {},
   "outputs": [],
   "source": [
    "metric.tensor()"
   ]
  },
  {
   "cell_type": "code",
   "execution_count": null,
   "id": "f1b7aab7-c7b1-4929-a8f5-a87d69155025",
   "metadata": {},
   "outputs": [],
   "source": [
    "einst = EinsteinTensor.from_metric(metric)\n",
    "einst.tensor()"
   ]
  },
  {
   "cell_type": "markdown",
   "id": "f7efa876-9960-4cbc-93b5-f25682dbfe2f",
   "metadata": {},
   "source": [
    "#### FLRW"
   ]
  },
  {
   "cell_type": "code",
   "execution_count": null,
   "id": "335a68d3-90f9-4ad8-b446-06f78abeb0f9",
   "metadata": {},
   "outputs": [],
   "source": [
    "syms = sympy.symbols(\"t r theta phi a\")\n",
    "t, r, th, ph, a = syms"
   ]
  },
  {
   "cell_type": "code",
   "execution_count": null,
   "id": "d7dbe700-19d3-4b7a-b2fe-5c0aaf98689f",
   "metadata": {},
   "outputs": [],
   "source": [
    "syms = sympy.symbols(\"t r theta phi a\")\n",
    "t, r, th, ph, a = syms\n",
    "m = sympy.diag(-1, a ** 2, r ** 2, r ** 2 * sin(th) ** 2).tolist()\n",
    "metric = MetricTensor(m, syms[:-1])"
   ]
  },
  {
   "cell_type": "code",
   "execution_count": null,
   "id": "6ab3e19b-d518-41f6-8bc7-89b485e7bc83",
   "metadata": {},
   "outputs": [],
   "source": [
    "metric.tensor()"
   ]
  },
  {
   "cell_type": "code",
   "execution_count": null,
   "id": "90bdc96f-da93-467c-81df-8c5c6f5e0612",
   "metadata": {},
   "outputs": [],
   "source": [
    "einst = EinsteinTensor.from_metric(metric)\n",
    "einst.tensor()"
   ]
  },
  {
   "cell_type": "markdown",
   "id": "78b59fac-2954-41a7-8722-814ce735b033",
   "metadata": {},
   "source": [
    "### Símbolos de Christoffel, Tensor de Curvatura, Tensor de Ricci, Escalar de Ricci"
   ]
  },
  {
   "cell_type": "code",
   "execution_count": null,
   "id": "ad7fad22-afe8-4905-b694-5c30480c57b9",
   "metadata": {},
   "outputs": [],
   "source": [
    "from einsteinpy.symbolic import ChristoffelSymbols, RiemannCurvatureTensor, RicciTensor, RicciScalar\n",
    "from einsteinpy.symbolic.predefined import Schwarzschild"
   ]
  },
  {
   "cell_type": "code",
   "execution_count": null,
   "id": "c23e64d1-c362-48bc-9971-0e3c8bff0a7e",
   "metadata": {},
   "outputs": [],
   "source": [
    "sch = Schwarzschild() # métrica\n",
    "sch.tensor()"
   ]
  },
  {
   "cell_type": "code",
   "execution_count": null,
   "id": "f98df563-df86-4af1-a1c2-9dad01c83f2e",
   "metadata": {},
   "outputs": [],
   "source": [
    "sch_inv = sch.inv() # inversa\n",
    "sch_inv.tensor()"
   ]
  },
  {
   "cell_type": "code",
   "execution_count": null,
   "id": "4696f03b-1395-4da6-ad2a-16cf95372e57",
   "metadata": {},
   "outputs": [],
   "source": [
    "chr = ChristoffelSymbols.from_metric(sch)\n",
    "chr.tensor()"
   ]
  },
  {
   "cell_type": "code",
   "execution_count": null,
   "id": "00e1f47e-6268-4ccb-933d-b6b51beabf10",
   "metadata": {},
   "outputs": [],
   "source": [
    "rm = RiemannCurvatureTensor.from_christoffels(chr)\n",
    "rm.tensor()"
   ]
  },
  {
   "cell_type": "code",
   "execution_count": null,
   "id": "dd314c0c-bd82-4cdf-960f-399ca5462b20",
   "metadata": {},
   "outputs": [],
   "source": [
    "Ric = RicciTensor.from_metric(sch)\n",
    "Ric.tensor()"
   ]
  },
  {
   "cell_type": "code",
   "execution_count": null,
   "id": "11f29213-908f-4c8d-af2f-90c7b6b8d6fa",
   "metadata": {},
   "outputs": [],
   "source": [
    "R = RicciScalar.from_riccitensor(Ric)\n",
    "R.simplify()\n",
    "R.expr"
   ]
  }
 ],
 "metadata": {
  "kernelspec": {
   "display_name": "Python 3 (ipykernel)",
   "language": "python",
   "name": "python3"
  },
  "language_info": {
   "codemirror_mode": {
    "name": "ipython",
    "version": 3
   },
   "file_extension": ".py",
   "mimetype": "text/x-python",
   "name": "python",
   "nbconvert_exporter": "python",
   "pygments_lexer": "ipython3",
   "version": "3.7.12"
  }
 },
 "nbformat": 4,
 "nbformat_minor": 5
}
